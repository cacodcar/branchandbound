{
 "cells": [
  {
   "cell_type": "markdown",
   "metadata": {},
   "source": [
    "# Branch and Bound"
   ]
  },
  {
   "cell_type": "markdown",
   "metadata": {},
   "source": [
    "__author__ = \"Rahul Kakodkar\"\n",
    "__copyright__ = \"Me\"\n",
    "__credits__ = \"Me\"\n",
    "__license__ = \"Open\"\n",
    "__version__ = \"0.0.7\"\n",
    "__maintainer__ = \"Rahul Kakodkar\"\n",
    "__email__ = \"Me\"\n",
    "__status__ = \"Single\""
   ]
  },
  {
   "cell_type": "markdown",
   "metadata": {},
   "source": [
    "**Import Modules**"
   ]
  },
  {
   "cell_type": "code",
   "execution_count": 2,
   "metadata": {},
   "outputs": [],
   "source": [
    "from itertools import product\n",
    "from pyomo.environ import *\n",
    "import numpy \n",
    "import pandas \n",
    "from pyomo.opt import SolverStatus, TerminationCondition"
   ]
  },
  {
   "cell_type": "markdown",
   "metadata": {},
   "source": []
  },
  {
   "cell_type": "markdown",
   "metadata": {},
   "source": [
    "Consider this problem from : http://web.tecnico.ulisboa.pt/mcasquilho/compute/_linpro/TaylorB_module_c.pdf\n",
    "\n",
    "\n",
    "**Shop Floor Expansion with branch and bound**\n",
    "\n",
    "The owner of a machining shop wants to increase revenue, but he has limited floor space (200 sq. Ft.) and money (40,000$)"
   ]
  },
  {
   "cell_type": "code",
   "execution_count": 7,
   "metadata": {},
   "outputs": [
    {
     "data": {
      "text/html": [
       "<div>\n",
       "<style scoped>\n",
       "    .dataframe tbody tr th:only-of-type {\n",
       "        vertical-align: middle;\n",
       "    }\n",
       "\n",
       "    .dataframe tbody tr th {\n",
       "        vertical-align: top;\n",
       "    }\n",
       "\n",
       "    .dataframe thead th {\n",
       "        text-align: right;\n",
       "    }\n",
       "</style>\n",
       "<table border=\"1\" class=\"dataframe\">\n",
       "  <thead>\n",
       "    <tr style=\"text-align: right;\">\n",
       "      <th></th>\n",
       "      <th>Machine</th>\n",
       "      <th>Floor Space (sq. ft.)</th>\n",
       "      <th>Purchase Price ($)</th>\n",
       "      <th>Revenue</th>\n",
       "    </tr>\n",
       "  </thead>\n",
       "  <tbody>\n",
       "    <tr>\n",
       "      <th>0</th>\n",
       "      <td>Price</td>\n",
       "      <td>15</td>\n",
       "      <td>8000</td>\n",
       "      <td>100</td>\n",
       "    </tr>\n",
       "    <tr>\n",
       "      <th>1</th>\n",
       "      <td>Lathe</td>\n",
       "      <td>30</td>\n",
       "      <td>4000</td>\n",
       "      <td>150</td>\n",
       "    </tr>\n",
       "  </tbody>\n",
       "</table>\n",
       "</div>"
      ],
      "text/plain": [
       "  Machine  Floor Space (sq. ft.)  Purchase Price ($)  Revenue\n",
       "0   Price                     15                8000      100\n",
       "1   Lathe                     30                4000      150"
      ]
     },
     "execution_count": 7,
     "metadata": {},
     "output_type": "execute_result"
    }
   ],
   "source": [
    "pandas.DataFrame(data = {'Machine': ['Price', 'Lathe'], 'Floor Space (sq. ft.)': [15, 30], 'Purchase Price ($)': [8000, 4000], 'Revenue': [100, 150]})"
   ]
  },
  {
   "cell_type": "markdown",
   "metadata": {},
   "source": [
    "\n",
    "*maximize* 100 $X_1$ + 150 $X_2$\n",
    "\n",
    "8000 $X_1$ + 4000 $X_2$ $\\leq$ 40000\n",
    "\n",
    "15 $X_1$ + 30 $X_2$ $\\leq$ 200"
   ]
  },
  {
   "cell_type": "markdown",
   "metadata": {},
   "source": [
    "**Declare a general model**"
   ]
  },
  {
   "cell_type": "code",
   "execution_count": 78,
   "metadata": {},
   "outputs": [],
   "source": [
    "def declare():\n",
    "    model = ConcreteModel()\n",
    "\n",
    "    model.X1 = Var(within = NonNegativeReals)\n",
    "    model.X2 = Var(within = NonNegativeReals)\n",
    "\n",
    "    model.money_cons = Constraint(expr = 8000*model.X1 + 4000*model.X2 <= 40000)\n",
    "    model.area_cons = Constraint(expr = 15*model.X1 + 30*model.X2 <= 200)\n",
    "\n",
    "    model.obj = Objective(expr = 100*model.X1 + 150*model.X2, sense = maximize)\n",
    "\n",
    "    return model\n"
   ]
  },
  {
   "cell_type": "markdown",
   "metadata": {},
   "source": [
    "**Printer function for important results**"
   ]
  },
  {
   "cell_type": "code",
   "execution_count": 9,
   "metadata": {},
   "outputs": [],
   "source": [
    "def print_res(model):\n",
    "    print(f\"objective value is {model.obj()}, X1 = {model.X1.value}, X2 = {model.X2.value}\")\n",
    "    print(f\"The lower bounds of variables are X1 = {floor(model.X1.value)}, X2 = {floor(model.X2.value)}\")\n",
    "    print(f\"at the lower bounds the value of the objective is {100*floor(model.X1.value) + 150*floor(model.X2.value)}\")\n",
    "    print(f\"The distance from the values are delX1 = {model.X1.value - floor(model.X1.value)}, delX2 = {model.X2.value - floor(model.X2.value)}\")\n"
   ]
  },
  {
   "cell_type": "markdown",
   "metadata": {},
   "source": [
    "**Node1**\n",
    "\n",
    "Here the original IP is relaxed to get a LP"
   ]
  },
  {
   "cell_type": "code",
   "execution_count": 80,
   "metadata": {},
   "outputs": [
    {
     "name": "stdout",
     "output_type": "stream",
     "text": [
      "objective value is 1055.5555555555554, X1 = 2.2222222222222223, X2 = 5.555555555555555\n",
      "The lower bounds of variables are X1 = 2, X2 = 5\n",
      "at the lower bounds the value of the objective is 950\n",
      "The distance from the values are delX1 = 0.22222222222222232, delX2 = 0.5555555555555554\n"
     ]
    }
   ],
   "source": [
    "node1 = declare()\n",
    "result = SolverFactory('gurobi').solve(node1)\n",
    "print_res(node1)"
   ]
  },
  {
   "cell_type": "markdown",
   "metadata": {},
   "source": [
    "since $X_2$ has a larger delta, we branch at $X_2$"
   ]
  },
  {
   "cell_type": "markdown",
   "metadata": {},
   "source": [
    "**Node2**\n",
    "\n",
    "Add the constraint\n",
    "\n",
    "$X_2 \\leq 5$"
   ]
  },
  {
   "cell_type": "code",
   "execution_count": 81,
   "metadata": {},
   "outputs": [
    {
     "name": "stdout",
     "output_type": "stream",
     "text": [
      "objective value is 1000.0, X1 = 2.5, X2 = 5.0\n",
      "The lower bounds of variables are X1 = 2, X2 = 5\n",
      "at the lower bounds the value of the objective is 950\n",
      "The distance from the values are delX1 = 0.5, delX2 = 0.0\n"
     ]
    }
   ],
   "source": [
    "node2 = declare()\n",
    "node2.cons_add = Constraint(expr = node2.X2 <= 5)\n",
    "result = SolverFactory('gurobi').solve(node2)\n",
    "print_res(node2)"
   ]
  },
  {
   "cell_type": "markdown",
   "metadata": {},
   "source": [
    "**Node3**\n",
    "\n",
    "Add the constraint \n",
    "\n",
    " $X_2 \\geq 6$"
   ]
  },
  {
   "cell_type": "code",
   "execution_count": 91,
   "metadata": {},
   "outputs": [
    {
     "name": "stdout",
     "output_type": "stream",
     "text": [
      "objective value is 1033.3333333333333, X1 = 1.3333333333333333, X2 = 6.0\n",
      "The lower bounds of variables are X1 = 1, X2 = 6\n",
      "at the lower bounds the value of the objective is 1000\n",
      "The distance from the values are delX1 = 0.33333333333333326, delX2 = 0.0\n"
     ]
    }
   ],
   "source": [
    "node3 = declare()\n",
    "node3.cons_add = Constraint(expr = node3.X2 >= 6)\n",
    "result = SolverFactory('gurobi').solve(node3)\n",
    "print_res(node3)\n"
   ]
  },
  {
   "cell_type": "markdown",
   "metadata": {},
   "source": [
    "Node 3 provides a better solution, let us branch out of node 3"
   ]
  },
  {
   "cell_type": "markdown",
   "metadata": {},
   "source": [
    "**Node 4**"
   ]
  },
  {
   "cell_type": "markdown",
   "metadata": {},
   "source": [
    "Retain the constraint from node 3\n",
    "\n",
    "$X_2 >= 6$\n",
    "\n",
    "Add the constraint\n",
    "\n",
    "$X_1 <=1$"
   ]
  },
  {
   "cell_type": "code",
   "execution_count": 93,
   "metadata": {},
   "outputs": [
    {
     "name": "stdout",
     "output_type": "stream",
     "text": [
      "objective value is 1025.0, X1 = 1.0, X2 = 6.166666666666667\n",
      "The lower bounds of variables are X1 = 1, X2 = 6\n",
      "at the lower bounds the value of the objective is 1000\n",
      "The distance from the values are delX1 = 0.0, delX2 = 0.16666666666666696\n"
     ]
    }
   ],
   "source": [
    "node4 = declare()\n",
    "node4.cons_fix = Constraint(expr = node4.X2 >= 6)\n",
    "node4.cons_add = Constraint(expr = node4.X1 <= 1)\n",
    "result = SolverFactory('gurobi').solve(node4)\n",
    "print_res(node4)"
   ]
  },
  {
   "cell_type": "markdown",
   "metadata": {},
   "source": [
    "**Node 5**"
   ]
  },
  {
   "cell_type": "markdown",
   "metadata": {},
   "source": [
    "Retain the constraint from node 3\n",
    "\n",
    "$X_2 >= 6$\n",
    "\n",
    "Add the constraint\n",
    "\n",
    "$X_1 >=2$"
   ]
  },
  {
   "cell_type": "code",
   "execution_count": 100,
   "metadata": {},
   "outputs": [
    {
     "ename": "KeyError",
     "evalue": "4742152480",
     "output_type": "error",
     "traceback": [
      "\u001b[0;31m---------------------------------------------------------------------------\u001b[0m",
      "\u001b[0;31mKeyError\u001b[0m                                  Traceback (most recent call last)",
      "\u001b[1;32m/Users/cacodcar/Desktop/repos/energiapy-private/sudoku.ipynb Cell 17\u001b[0m in \u001b[0;36m<cell line: 4>\u001b[0;34m()\u001b[0m\n\u001b[1;32m      <a href='vscode-notebook-cell:/Users/cacodcar/Desktop/repos/energiapy-private/sudoku.ipynb#X30sZmlsZQ%3D%3D?line=1'>2</a>\u001b[0m node5\u001b[39m.\u001b[39mcons_fix \u001b[39m=\u001b[39m Constraint(expr \u001b[39m=\u001b[39m node4\u001b[39m.\u001b[39mX2 \u001b[39m>\u001b[39m\u001b[39m=\u001b[39m \u001b[39m6\u001b[39m)\n\u001b[1;32m      <a href='vscode-notebook-cell:/Users/cacodcar/Desktop/repos/energiapy-private/sudoku.ipynb#X30sZmlsZQ%3D%3D?line=2'>3</a>\u001b[0m node5\u001b[39m.\u001b[39mcons_add \u001b[39m=\u001b[39m Constraint(expr \u001b[39m=\u001b[39m node5\u001b[39m.\u001b[39mX1 \u001b[39m>\u001b[39m\u001b[39m=\u001b[39m \u001b[39m2\u001b[39m)\n\u001b[0;32m----> <a href='vscode-notebook-cell:/Users/cacodcar/Desktop/repos/energiapy-private/sudoku.ipynb#X30sZmlsZQ%3D%3D?line=3'>4</a>\u001b[0m result \u001b[39m=\u001b[39m SolverFactory(\u001b[39m'\u001b[39;49m\u001b[39mgurobi\u001b[39;49m\u001b[39m'\u001b[39;49m)\u001b[39m.\u001b[39;49msolve(node5)\n\u001b[1;32m      <a href='vscode-notebook-cell:/Users/cacodcar/Desktop/repos/energiapy-private/sudoku.ipynb#X30sZmlsZQ%3D%3D?line=4'>5</a>\u001b[0m result\u001b[39m.\u001b[39mwrite()\n\u001b[1;32m      <a href='vscode-notebook-cell:/Users/cacodcar/Desktop/repos/energiapy-private/sudoku.ipynb#X30sZmlsZQ%3D%3D?line=5'>6</a>\u001b[0m print_res(node5)\n",
      "File \u001b[0;32m~/Desktop/repos/energiapy-private/gaia/lib/python3.10/site-packages/pyomo/opt/base/solvers.py:570\u001b[0m, in \u001b[0;36mOptSolver.solve\u001b[0;34m(self, *args, **kwds)\u001b[0m\n\u001b[1;32m    565\u001b[0m \u001b[39mtry\u001b[39;00m:\n\u001b[1;32m    566\u001b[0m \n\u001b[1;32m    567\u001b[0m     \u001b[39m# we're good to go.\u001b[39;00m\n\u001b[1;32m    568\u001b[0m     initial_time \u001b[39m=\u001b[39m time\u001b[39m.\u001b[39mtime()\n\u001b[0;32m--> 570\u001b[0m     \u001b[39mself\u001b[39;49m\u001b[39m.\u001b[39;49m_presolve(\u001b[39m*\u001b[39;49margs, \u001b[39m*\u001b[39;49m\u001b[39m*\u001b[39;49mkwds)\n\u001b[1;32m    572\u001b[0m     presolve_completion_time \u001b[39m=\u001b[39m time\u001b[39m.\u001b[39mtime()\n\u001b[1;32m    573\u001b[0m     \u001b[39mif\u001b[39;00m \u001b[39mself\u001b[39m\u001b[39m.\u001b[39m_report_timing:\n",
      "File \u001b[0;32m~/Desktop/repos/energiapy-private/gaia/lib/python3.10/site-packages/pyomo/solvers/plugins/solvers/GUROBI.py:234\u001b[0m, in \u001b[0;36mGUROBISHELL._presolve\u001b[0;34m(self, *args, **kwds)\u001b[0m\n\u001b[1;32m    230\u001b[0m         \u001b[39mself\u001b[39m\u001b[39m.\u001b[39m_warm_start_file_name \u001b[39m=\u001b[39m TempfileManager\u001b[39m.\u001b[39mcreate_tempfile(\n\u001b[1;32m    231\u001b[0m             suffix\u001b[39m=\u001b[39m\u001b[39m'\u001b[39m\u001b[39m.gurobi.mst\u001b[39m\u001b[39m'\u001b[39m)\n\u001b[1;32m    233\u001b[0m \u001b[39m# let the base class handle any remaining keywords/actions.\u001b[39;00m\n\u001b[0;32m--> 234\u001b[0m ILMLicensedSystemCallSolver\u001b[39m.\u001b[39;49m_presolve(\u001b[39mself\u001b[39;49m, \u001b[39m*\u001b[39;49margs, \u001b[39m*\u001b[39;49m\u001b[39m*\u001b[39;49mkwds)\n\u001b[1;32m    236\u001b[0m \u001b[39m# NB: we must let the base class presolve run first so that the\u001b[39;00m\n\u001b[1;32m    237\u001b[0m \u001b[39m# symbol_map is actually constructed!\u001b[39;00m\n\u001b[1;32m    239\u001b[0m \u001b[39mif\u001b[39;00m (\u001b[39mlen\u001b[39m(args) \u001b[39m>\u001b[39m \u001b[39m0\u001b[39m) \u001b[39mand\u001b[39;00m (\u001b[39mnot\u001b[39;00m \u001b[39misinstance\u001b[39m(args[\u001b[39m0\u001b[39m], \u001b[39mstr\u001b[39m)):\n",
      "File \u001b[0;32m~/Desktop/repos/energiapy-private/gaia/lib/python3.10/site-packages/pyomo/opt/solver/shellcmd.py:209\u001b[0m, in \u001b[0;36mSystemCallSolver._presolve\u001b[0;34m(self, *args, **kwds)\u001b[0m\n\u001b[1;32m    206\u001b[0m \u001b[39mself\u001b[39m\u001b[39m.\u001b[39m_keepfiles \u001b[39m=\u001b[39m kwds\u001b[39m.\u001b[39mpop(\u001b[39m\"\u001b[39m\u001b[39mkeepfiles\u001b[39m\u001b[39m\"\u001b[39m, \u001b[39mFalse\u001b[39;00m)\n\u001b[1;32m    207\u001b[0m \u001b[39mself\u001b[39m\u001b[39m.\u001b[39m_define_signal_handlers \u001b[39m=\u001b[39m kwds\u001b[39m.\u001b[39mpop(\u001b[39m'\u001b[39m\u001b[39muse_signal_handling\u001b[39m\u001b[39m'\u001b[39m,\u001b[39mNone\u001b[39;00m)\n\u001b[0;32m--> 209\u001b[0m OptSolver\u001b[39m.\u001b[39;49m_presolve(\u001b[39mself\u001b[39;49m, \u001b[39m*\u001b[39;49margs, \u001b[39m*\u001b[39;49m\u001b[39m*\u001b[39;49mkwds)\n\u001b[1;32m    211\u001b[0m \u001b[39m#\u001b[39;00m\n\u001b[1;32m    212\u001b[0m \u001b[39m# Verify that the input problems exists\u001b[39;00m\n\u001b[1;32m    213\u001b[0m \u001b[39m#\u001b[39;00m\n\u001b[1;32m    214\u001b[0m \u001b[39mfor\u001b[39;00m filename \u001b[39min\u001b[39;00m \u001b[39mself\u001b[39m\u001b[39m.\u001b[39m_problem_files:\n",
      "File \u001b[0;32m~/Desktop/repos/energiapy-private/gaia/lib/python3.10/site-packages/pyomo/opt/base/solvers.py:667\u001b[0m, in \u001b[0;36mOptSolver._presolve\u001b[0;34m(self, *args, **kwds)\u001b[0m\n\u001b[1;32m    664\u001b[0m \u001b[39mif\u001b[39;00m \u001b[39mself\u001b[39m\u001b[39m.\u001b[39m_problem_format:\n\u001b[1;32m    665\u001b[0m     write_start_time \u001b[39m=\u001b[39m time\u001b[39m.\u001b[39mtime()\n\u001b[1;32m    666\u001b[0m     (\u001b[39mself\u001b[39m\u001b[39m.\u001b[39m_problem_files, \u001b[39mself\u001b[39m\u001b[39m.\u001b[39m_problem_format, \u001b[39mself\u001b[39m\u001b[39m.\u001b[39m_smap_id) \u001b[39m=\u001b[39m \\\n\u001b[0;32m--> 667\u001b[0m         \u001b[39mself\u001b[39;49m\u001b[39m.\u001b[39;49m_convert_problem(args,\n\u001b[1;32m    668\u001b[0m                               \u001b[39mself\u001b[39;49m\u001b[39m.\u001b[39;49m_problem_format,\n\u001b[1;32m    669\u001b[0m                               \u001b[39mself\u001b[39;49m\u001b[39m.\u001b[39;49m_valid_problem_formats,\n\u001b[1;32m    670\u001b[0m                               \u001b[39m*\u001b[39;49m\u001b[39m*\u001b[39;49mkwds)\n\u001b[1;32m    671\u001b[0m     total_time \u001b[39m=\u001b[39m time\u001b[39m.\u001b[39mtime() \u001b[39m-\u001b[39m write_start_time\n\u001b[1;32m    672\u001b[0m     \u001b[39mif\u001b[39;00m \u001b[39mself\u001b[39m\u001b[39m.\u001b[39m_report_timing:\n",
      "File \u001b[0;32m~/Desktop/repos/energiapy-private/gaia/lib/python3.10/site-packages/pyomo/opt/base/solvers.py:718\u001b[0m, in \u001b[0;36mOptSolver._convert_problem\u001b[0;34m(self, args, problem_format, valid_problem_formats, **kwds)\u001b[0m\n\u001b[1;32m    713\u001b[0m \u001b[39mdef\u001b[39;00m \u001b[39m_convert_problem\u001b[39m(\u001b[39mself\u001b[39m,\n\u001b[1;32m    714\u001b[0m                      args,\n\u001b[1;32m    715\u001b[0m                      problem_format,\n\u001b[1;32m    716\u001b[0m                      valid_problem_formats,\n\u001b[1;32m    717\u001b[0m                      \u001b[39m*\u001b[39m\u001b[39m*\u001b[39mkwds):\n\u001b[0;32m--> 718\u001b[0m     \u001b[39mreturn\u001b[39;00m convert_problem(args,\n\u001b[1;32m    719\u001b[0m                            problem_format,\n\u001b[1;32m    720\u001b[0m                            valid_problem_formats,\n\u001b[1;32m    721\u001b[0m                            \u001b[39mself\u001b[39;49m\u001b[39m.\u001b[39;49mhas_capability,\n\u001b[1;32m    722\u001b[0m                            \u001b[39m*\u001b[39;49m\u001b[39m*\u001b[39;49mkwds)\n",
      "File \u001b[0;32m~/Desktop/repos/energiapy-private/gaia/lib/python3.10/site-packages/pyomo/opt/base/convert.py:101\u001b[0m, in \u001b[0;36mconvert_problem\u001b[0;34m(args, target_problem_type, valid_problem_types, has_capability, **kwds)\u001b[0m\n\u001b[1;32m     99\u001b[0m                 tmpkw \u001b[39m=\u001b[39m kwds\n\u001b[1;32m    100\u001b[0m                 tmpkw[\u001b[39m'\u001b[39m\u001b[39mcapabilities\u001b[39m\u001b[39m'\u001b[39m] \u001b[39m=\u001b[39m has_capability\n\u001b[0;32m--> 101\u001b[0m                 problem_files, symbol_map \u001b[39m=\u001b[39m converter\u001b[39m.\u001b[39;49mapply(\u001b[39m*\u001b[39;49mtmp, \u001b[39m*\u001b[39;49m\u001b[39m*\u001b[39;49mtmpkw)\n\u001b[1;32m    102\u001b[0m                 \u001b[39mreturn\u001b[39;00m problem_files, ptype, symbol_map\n\u001b[1;32m    104\u001b[0m msg \u001b[39m=\u001b[39m \u001b[39m'\u001b[39m\u001b[39mNo conversion possible.  Source problem type: \u001b[39m\u001b[39m%s\u001b[39;00m\u001b[39m.  Valid target \u001b[39m\u001b[39m'\u001b[39m  \\\n\u001b[1;32m    105\u001b[0m       \u001b[39m'\u001b[39m\u001b[39mtypes: \u001b[39m\u001b[39m%s\u001b[39;00m\u001b[39m'\u001b[39m\n",
      "File \u001b[0;32m~/Desktop/repos/energiapy-private/gaia/lib/python3.10/site-packages/pyomo/solvers/plugins/converter/model.py:78\u001b[0m, in \u001b[0;36mPyomoMIPConverter.apply\u001b[0;34m(self, *args, **kwds)\u001b[0m\n\u001b[1;32m     70\u001b[0m         symbol_map_id \u001b[39m=\u001b[39m instance\u001b[39m.\u001b[39mwrite(\n\u001b[1;32m     71\u001b[0m             problem_filename,\n\u001b[1;32m     72\u001b[0m             \u001b[39mformat\u001b[39m\u001b[39m=\u001b[39mProblemFormat\u001b[39m.\u001b[39mcpxlp,\n\u001b[1;32m     73\u001b[0m             _solver_capability\u001b[39m=\u001b[39mcapabilities,\n\u001b[1;32m     74\u001b[0m             _called_by_solver\u001b[39m=\u001b[39m\u001b[39mTrue\u001b[39;00m,\n\u001b[1;32m     75\u001b[0m             \u001b[39m*\u001b[39m\u001b[39m*\u001b[39mio_options)\n\u001b[1;32m     76\u001b[0m     \u001b[39melse\u001b[39;00m:\n\u001b[1;32m     77\u001b[0m         (problem_filename, symbol_map_id) \u001b[39m=\u001b[39m \\\n\u001b[0;32m---> 78\u001b[0m             instance\u001b[39m.\u001b[39;49mwrite(\n\u001b[1;32m     79\u001b[0m                 filename\u001b[39m=\u001b[39;49mproblem_filename,\n\u001b[1;32m     80\u001b[0m                 \u001b[39mformat\u001b[39;49m\u001b[39m=\u001b[39;49mProblemFormat\u001b[39m.\u001b[39;49mcpxlp,\n\u001b[1;32m     81\u001b[0m                 solver_capability\u001b[39m=\u001b[39;49mcapabilities,\n\u001b[1;32m     82\u001b[0m                 io_options\u001b[39m=\u001b[39;49mio_options)\n\u001b[1;32m     83\u001b[0m     \u001b[39mreturn\u001b[39;00m (problem_filename,), symbol_map_id\n\u001b[1;32m     84\u001b[0m \u001b[39melse\u001b[39;00m:\n\u001b[1;32m     85\u001b[0m \n\u001b[1;32m     86\u001b[0m     \u001b[39m#\u001b[39;00m\n\u001b[0;32m   (...)\u001b[0m\n\u001b[1;32m     90\u001b[0m     \u001b[39m# arguments that can be sent to the writer?\u001b[39;00m\n\u001b[1;32m     91\u001b[0m     \u001b[39m#\u001b[39;00m\n",
      "File \u001b[0;32m~/Desktop/repos/energiapy-private/gaia/lib/python3.10/site-packages/pyomo/core/base/block.py:1808\u001b[0m, in \u001b[0;36m_BlockData.write\u001b[0;34m(self, filename, format, solver_capability, io_options)\u001b[0m\n\u001b[1;32m   1806\u001b[0m \u001b[39mif\u001b[39;00m solver_capability \u001b[39mis\u001b[39;00m \u001b[39mNone\u001b[39;00m:\n\u001b[1;32m   1807\u001b[0m     \u001b[39mdef\u001b[39;00m \u001b[39msolver_capability\u001b[39m(x): \u001b[39mreturn\u001b[39;00m \u001b[39mTrue\u001b[39;00m\n\u001b[0;32m-> 1808\u001b[0m (filename, smap) \u001b[39m=\u001b[39m problem_writer(\u001b[39mself\u001b[39;49m,\n\u001b[1;32m   1809\u001b[0m                                   filename,\n\u001b[1;32m   1810\u001b[0m                                   solver_capability,\n\u001b[1;32m   1811\u001b[0m                                   io_options)\n\u001b[1;32m   1812\u001b[0m smap_id \u001b[39m=\u001b[39m \u001b[39mid\u001b[39m(smap)\n\u001b[1;32m   1813\u001b[0m \u001b[39mif\u001b[39;00m \u001b[39mnot\u001b[39;00m \u001b[39mhasattr\u001b[39m(\u001b[39mself\u001b[39m, \u001b[39m'\u001b[39m\u001b[39msolutions\u001b[39m\u001b[39m'\u001b[39m):\n\u001b[1;32m   1814\u001b[0m     \u001b[39m# This is a bit of a hack.  The write() method was moved\u001b[39;00m\n\u001b[1;32m   1815\u001b[0m     \u001b[39m# here from PyomoModel to support the solution of arbitrary\u001b[39;00m\n\u001b[0;32m   (...)\u001b[0m\n\u001b[1;32m   1820\u001b[0m     \u001b[39m# dependency (we only need it here because we store the\u001b[39;00m\n\u001b[1;32m   1821\u001b[0m     \u001b[39m# SymbolMap returned by the writer in the solutions).\u001b[39;00m\n",
      "File \u001b[0;32mpyomo/repn/plugins/cpxlp.pyx:158\u001b[0m, in \u001b[0;36mpyomo.repn.plugins.cpxlp.ProblemWriter_cpxlp.__call__\u001b[0;34m()\u001b[0m\n",
      "File \u001b[0;32mpyomo/repn/plugins/cpxlp.pyx:159\u001b[0m, in \u001b[0;36mpyomo.repn.plugins.cpxlp.ProblemWriter_cpxlp.__call__\u001b[0;34m()\u001b[0m\n",
      "File \u001b[0;32mpyomo/repn/plugins/cpxlp.pyx:160\u001b[0m, in \u001b[0;36mpyomo.repn.plugins.cpxlp.ProblemWriter_cpxlp.__call__\u001b[0;34m()\u001b[0m\n",
      "File \u001b[0;32mpyomo/repn/plugins/cpxlp.pyx:671\u001b[0m, in \u001b[0;36mpyomo.repn.plugins.cpxlp.ProblemWriter_cpxlp._print_model_LP\u001b[0;34m()\u001b[0m\n",
      "File \u001b[0;32mpyomo/repn/plugins/cpxlp.pyx:213\u001b[0m, in \u001b[0;36mpyomo.repn.plugins.cpxlp.ProblemWriter_cpxlp._print_expr_canonical\u001b[0;34m()\u001b[0m\n",
      "\u001b[0;31mKeyError\u001b[0m: 4742152480"
     ]
    }
   ],
   "source": [
    "node5 = declare()\n",
    "node5.cons_fix = Constraint(expr = node4.X2 >= 6)\n",
    "node5.cons_add = Constraint(expr = node5.X1 >= 2)\n",
    "result = SolverFactory('gurobi').solve(node5)\n",
    "print_res(node5)"
   ]
  },
  {
   "cell_type": "markdown",
   "metadata": {},
   "source": [
    "Infeasible, this node is lame"
   ]
  },
  {
   "cell_type": "markdown",
   "metadata": {},
   "source": [
    "**Node 6**\n",
    "\n",
    "Retain the constraints from Node 4 \n",
    "\n",
    "$X_2 >= 6$\n",
    "\n",
    "$X_1 <=1$\n",
    "\n",
    "Add the constraint $X_2 <= 6$\n"
   ]
  },
  {
   "cell_type": "code",
   "execution_count": 97,
   "metadata": {},
   "outputs": [
    {
     "name": "stdout",
     "output_type": "stream",
     "text": [
      "objective value is 1000.0, X1 = 1.0, X2 = 6.0\n",
      "The lower bounds of variables are X1 = 1, X2 = 6\n",
      "at the lower bounds the value of the objective is 1000\n",
      "The distance from the values are delX1 = 0.0, delX2 = 0.0\n"
     ]
    }
   ],
   "source": [
    "node6 = declare()\n",
    "\n",
    "node6.cons_fix = Constraint(expr = node6.X2 <= 6)\n",
    "node6.cons_add = Constraint(expr = node6.X1 <= 1)\n",
    "result = SolverFactory('gurobi').solve(node6)\n",
    "print_res(node6)"
   ]
  },
  {
   "cell_type": "markdown",
   "metadata": {},
   "source": [
    "**Node 7**\n",
    "\n",
    "Retain the constraints from Node 4 \n",
    "\n",
    "$X_2 >= 6$\n",
    "\n",
    "$X_1 <=1$\n",
    "\n",
    "Add the constraint $X_2 >= 7$\n"
   ]
  },
  {
   "cell_type": "code",
   "execution_count": 99,
   "metadata": {},
   "outputs": [
    {
     "name": "stdout",
     "output_type": "stream",
     "text": [
      "WARNING: Loading a SolverResults object with a warning status into\n",
      "    model.name=\"unknown\";\n",
      "      - termination condition: infeasibleOrUnbounded\n",
      "      - message from solver: Problem proven to be infeasible or unbounded.\n",
      "ERROR: evaluating object as numeric value: X1\n",
      "        (object: <class 'pyomo.core.base.var.ScalarVar'>)\n",
      "    No value for uninitialized NumericValue object X1\n"
     ]
    },
    {
     "ename": "ValueError",
     "evalue": "No value for uninitialized NumericValue object X1",
     "output_type": "error",
     "traceback": [
      "\u001b[0;31m---------------------------------------------------------------------------\u001b[0m",
      "\u001b[0;31mValueError\u001b[0m                                Traceback (most recent call last)",
      "\u001b[1;32m/Users/cacodcar/Desktop/repos/energiapy-private/sudoku.ipynb Cell 20\u001b[0m in \u001b[0;36m<cell line: 6>\u001b[0;34m()\u001b[0m\n\u001b[1;32m      <a href='vscode-notebook-cell:/Users/cacodcar/Desktop/repos/energiapy-private/sudoku.ipynb#X32sZmlsZQ%3D%3D?line=3'>4</a>\u001b[0m node7\u001b[39m.\u001b[39mcons_add \u001b[39m=\u001b[39m Constraint(expr \u001b[39m=\u001b[39m node7\u001b[39m.\u001b[39mX1 \u001b[39m<\u001b[39m\u001b[39m=\u001b[39m \u001b[39m1\u001b[39m)\n\u001b[1;32m      <a href='vscode-notebook-cell:/Users/cacodcar/Desktop/repos/energiapy-private/sudoku.ipynb#X32sZmlsZQ%3D%3D?line=4'>5</a>\u001b[0m result \u001b[39m=\u001b[39m SolverFactory(\u001b[39m'\u001b[39m\u001b[39mgurobi\u001b[39m\u001b[39m'\u001b[39m)\u001b[39m.\u001b[39msolve(node7)\n\u001b[0;32m----> <a href='vscode-notebook-cell:/Users/cacodcar/Desktop/repos/energiapy-private/sudoku.ipynb#X32sZmlsZQ%3D%3D?line=5'>6</a>\u001b[0m print_res(node7)\n",
      "\u001b[1;32m/Users/cacodcar/Desktop/repos/energiapy-private/sudoku.ipynb Cell 20\u001b[0m in \u001b[0;36mprint_res\u001b[0;34m(model)\u001b[0m\n\u001b[1;32m      <a href='vscode-notebook-cell:/Users/cacodcar/Desktop/repos/energiapy-private/sudoku.ipynb#X32sZmlsZQ%3D%3D?line=0'>1</a>\u001b[0m \u001b[39mdef\u001b[39;00m \u001b[39mprint_res\u001b[39m(model):\n\u001b[0;32m----> <a href='vscode-notebook-cell:/Users/cacodcar/Desktop/repos/energiapy-private/sudoku.ipynb#X32sZmlsZQ%3D%3D?line=1'>2</a>\u001b[0m     \u001b[39mprint\u001b[39m(\u001b[39mf\u001b[39m\u001b[39m\"\u001b[39m\u001b[39mobjective value is \u001b[39m\u001b[39m{\u001b[39;00mmodel\u001b[39m.\u001b[39mobj()\u001b[39m}\u001b[39;00m\u001b[39m, X1 = \u001b[39m\u001b[39m{\u001b[39;00mmodel\u001b[39m.\u001b[39mX1\u001b[39m.\u001b[39mvalue\u001b[39m}\u001b[39;00m\u001b[39m, X2 = \u001b[39m\u001b[39m{\u001b[39;00mmodel\u001b[39m.\u001b[39mX2\u001b[39m.\u001b[39mvalue\u001b[39m}\u001b[39;00m\u001b[39m\"\u001b[39m)\n\u001b[1;32m      <a href='vscode-notebook-cell:/Users/cacodcar/Desktop/repos/energiapy-private/sudoku.ipynb#X32sZmlsZQ%3D%3D?line=2'>3</a>\u001b[0m     \u001b[39mprint\u001b[39m(\u001b[39mf\u001b[39m\u001b[39m\"\u001b[39m\u001b[39mThe lower bounds of variables are X1 = \u001b[39m\u001b[39m{\u001b[39;00mfloor(model\u001b[39m.\u001b[39mX1\u001b[39m.\u001b[39mvalue)\u001b[39m}\u001b[39;00m\u001b[39m, X2 = \u001b[39m\u001b[39m{\u001b[39;00mfloor(model\u001b[39m.\u001b[39mX2\u001b[39m.\u001b[39mvalue)\u001b[39m}\u001b[39;00m\u001b[39m\"\u001b[39m)\n\u001b[1;32m      <a href='vscode-notebook-cell:/Users/cacodcar/Desktop/repos/energiapy-private/sudoku.ipynb#X32sZmlsZQ%3D%3D?line=3'>4</a>\u001b[0m     \u001b[39mprint\u001b[39m(\u001b[39mf\u001b[39m\u001b[39m\"\u001b[39m\u001b[39mat the lower bounds the value of the objective is \u001b[39m\u001b[39m{\u001b[39;00m\u001b[39m100\u001b[39m\u001b[39m*\u001b[39mfloor(model\u001b[39m.\u001b[39mX1\u001b[39m.\u001b[39mvalue) \u001b[39m+\u001b[39m \u001b[39m150\u001b[39m\u001b[39m*\u001b[39mfloor(model\u001b[39m.\u001b[39mX2\u001b[39m.\u001b[39mvalue)\u001b[39m}\u001b[39;00m\u001b[39m\"\u001b[39m)\n",
      "File \u001b[0;32m~/Desktop/repos/energiapy-private/gaia/lib/python3.10/site-packages/pyomo/core/base/expression.py:56\u001b[0m, in \u001b[0;36m_ExpressionData.__call__\u001b[0;34m(self, exception)\u001b[0m\n\u001b[1;32m     54\u001b[0m \u001b[39mif\u001b[39;00m \u001b[39mself\u001b[39m\u001b[39m.\u001b[39mexpr \u001b[39mis\u001b[39;00m \u001b[39mNone\u001b[39;00m:\n\u001b[1;32m     55\u001b[0m     \u001b[39mreturn\u001b[39;00m \u001b[39mNone\u001b[39;00m\n\u001b[0;32m---> 56\u001b[0m \u001b[39mreturn\u001b[39;00m \u001b[39mself\u001b[39;49m\u001b[39m.\u001b[39;49mexpr(exception\u001b[39m=\u001b[39;49mexception)\n",
      "File \u001b[0;32mpyomo/core/expr/numeric_expr.pyx:210\u001b[0m, in \u001b[0;36mpyomo.core.expr.numeric_expr.ExpressionBase.__call__\u001b[0;34m()\u001b[0m\n",
      "File \u001b[0;32m~/Desktop/repos/energiapy-private/gaia/lib/python3.10/site-packages/pyomo/core/expr/visitor.py:893\u001b[0m, in \u001b[0;36mevaluate_expression\u001b[0;34m(exp, exception, constant)\u001b[0m\n\u001b[1;32m    891\u001b[0m     visitor \u001b[39m=\u001b[39m _EvaluationVisitor(exception\u001b[39m=\u001b[39mexception)\n\u001b[1;32m    892\u001b[0m \u001b[39mtry\u001b[39;00m:\n\u001b[0;32m--> 893\u001b[0m     \u001b[39mreturn\u001b[39;00m visitor\u001b[39m.\u001b[39;49mdfs_postorder_stack(exp)\n\u001b[1;32m    895\u001b[0m \u001b[39mexcept\u001b[39;00m ( TemplateExpressionError, \u001b[39mValueError\u001b[39;00m, \u001b[39mTypeError\u001b[39;00m,\n\u001b[1;32m    896\u001b[0m          NonConstantExpressionError, FixedExpressionError ):\n\u001b[1;32m    897\u001b[0m     \u001b[39m# Errors that we want to be able to suppress:\u001b[39;00m\n\u001b[0;32m   (...)\u001b[0m\n\u001b[1;32m    905\u001b[0m     \u001b[39m#   TypeError: This can be raised in Python3 when evaluating a\u001b[39;00m\n\u001b[1;32m    906\u001b[0m     \u001b[39m#      operation returns a complex number (e.g., sqrt(-1))\u001b[39;00m\n\u001b[1;32m    907\u001b[0m     \u001b[39mif\u001b[39;00m exception:\n",
      "File \u001b[0;32m~/Desktop/repos/energiapy-private/gaia/lib/python3.10/site-packages/pyomo/core/expr/visitor.py:575\u001b[0m, in \u001b[0;36mExpressionValueVisitor.dfs_postorder_stack\u001b[0;34m(self, node)\u001b[0m\n\u001b[1;32m    573\u001b[0m _sub \u001b[39m=\u001b[39m _argList[_idx]\n\u001b[1;32m    574\u001b[0m _idx \u001b[39m+\u001b[39m\u001b[39m=\u001b[39m \u001b[39m1\u001b[39m\n\u001b[0;32m--> 575\u001b[0m flag, value \u001b[39m=\u001b[39m \u001b[39mself\u001b[39;49m\u001b[39m.\u001b[39;49mvisiting_potential_leaf(_sub)\n\u001b[1;32m    576\u001b[0m \u001b[39mif\u001b[39;00m flag:\n\u001b[1;32m    577\u001b[0m     _result\u001b[39m.\u001b[39mappend( value )\n",
      "File \u001b[0;32m~/Desktop/repos/energiapy-private/gaia/lib/python3.10/site-packages/pyomo/core/expr/visitor.py:803\u001b[0m, in \u001b[0;36m_EvaluationVisitor.visiting_potential_leaf\u001b[0;34m(self, node)\u001b[0m\n\u001b[1;32m    800\u001b[0m     \u001b[39mreturn\u001b[39;00m \u001b[39mFalse\u001b[39;00m, \u001b[39mNone\u001b[39;00m\n\u001b[1;32m    802\u001b[0m \u001b[39mif\u001b[39;00m node\u001b[39m.\u001b[39mis_numeric_type():\n\u001b[0;32m--> 803\u001b[0m     \u001b[39mreturn\u001b[39;00m \u001b[39mTrue\u001b[39;00m, value(node, exception\u001b[39m=\u001b[39;49m\u001b[39mself\u001b[39;49m\u001b[39m.\u001b[39;49mexception)\n\u001b[1;32m    804\u001b[0m \u001b[39melif\u001b[39;00m node\u001b[39m.\u001b[39mis_logical_type():\n\u001b[1;32m    805\u001b[0m     \u001b[39mreturn\u001b[39;00m \u001b[39mTrue\u001b[39;00m, value(node, exception\u001b[39m=\u001b[39m\u001b[39mself\u001b[39m\u001b[39m.\u001b[39mexception)\n",
      "File \u001b[0;32mpyomo/core/expr/numvalue.pyx:157\u001b[0m, in \u001b[0;36mpyomo.core.expr.numvalue.value\u001b[0;34m()\u001b[0m\n",
      "File \u001b[0;32mpyomo/core/expr/numvalue.pyx:144\u001b[0m, in \u001b[0;36mpyomo.core.expr.numvalue.value\u001b[0;34m()\u001b[0m\n",
      "\u001b[0;31mValueError\u001b[0m: No value for uninitialized NumericValue object X1"
     ]
    }
   ],
   "source": [
    "node7 = declare()\n",
    "node7.cons_fix = Constraint(expr = node7.X2 >= 7)\n",
    "node7.cons_add = Constraint(expr = node7.X1 <= 1)\n",
    "result = SolverFactory('gurobi').solve(node7)\n",
    "print_res(node7)"
   ]
  },
  {
   "cell_type": "markdown",
   "metadata": {},
   "source": [
    "This node is lame"
   ]
  },
  {
   "cell_type": "code",
   "execution_count": 12,
   "metadata": {},
   "outputs": [
    {
     "name": "stdout",
     "output_type": "stream",
     "text": [
      "objective value is 1000.0, X1 = 1.0, X2 = 6.0\n",
      "The lower bounds of variables are X1 = 1, X2 = 6\n",
      "at the lower bounds the value of the objective is 1000\n",
      "The distance from the values are delX1 = 0.0, delX2 = 0.0\n"
     ]
    }
   ],
   "source": [
    "def declare():\n",
    "    model = ConcreteModel()\n",
    "\n",
    "    model.X1 = Var(within = NonNegativeIntegers)\n",
    "    model.X2 = Var(within = NonNegativeIntegers)\n",
    "\n",
    "    model.money_cons = Constraint(expr = 8000*model.X1 + 4000*model.X2 <= 40000)\n",
    "    model.area_cons = Constraint(expr = 15*model.X1 + 30*model.X2 <= 200)\n",
    "\n",
    "    model.obj = Objective(expr = 100*model.X1 + 150*model.X2, sense = maximize)\n",
    "\n",
    "    return model\n",
    "\n",
    "model = declare()\n",
    "\n",
    "result = SolverFactory('gurobi').solve(model)\n",
    "print_res(model)"
   ]
  },
  {
   "cell_type": "markdown",
   "metadata": {},
   "source": [
    "## Node 6 is king"
   ]
  }
 ],
 "metadata": {
  "kernelspec": {
   "display_name": "Python 3.10.5 ('gaia': venv)",
   "language": "python",
   "name": "python3"
  },
  "language_info": {
   "codemirror_mode": {
    "name": "ipython",
    "version": 3
   },
   "file_extension": ".py",
   "mimetype": "text/x-python",
   "name": "python",
   "nbconvert_exporter": "python",
   "pygments_lexer": "ipython3",
   "version": "3.10.5"
  },
  "orig_nbformat": 4,
  "vscode": {
   "interpreter": {
    "hash": "37cb10b80cf633c0d91d8ea8292839b259c04433c23acf0a8be0ba5304bd1742"
   }
  }
 },
 "nbformat": 4,
 "nbformat_minor": 2
}
